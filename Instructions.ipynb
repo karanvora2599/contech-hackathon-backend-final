{
 "cells": [
  {
   "cell_type": "code",
   "execution_count": null,
   "metadata": {},
   "outputs": [],
   "source": [
    "!uvicorn ChatTestAPI:app --host 127.0.0.1 --port 8000 --reload"
   ]
  },
  {
   "cell_type": "code",
   "execution_count": null,
   "metadata": {},
   "outputs": [],
   "source": [
    "#First get a session\n",
    "!curl -X POST http://localhost:8000/start-session\n",
    "\n",
    "# {\n",
    "#   \"session_id\": \"a2e8f3d1-5b6c-4d9e-8f1a-0b3c4d5e6f7a\"\n",
    "# }\n",
    "\n",
    "#Then send a message\n",
    "!curl -X POST http://127.0.0.1:8000/chat \\\n",
    "  -H \"Content-Type: application/json\" \\\n",
    "  -d '{\"session_id\": \"YOUR_SESSION_ID\", \"message\": \"Hello!\"}'"
   ]
  },
  {
   "cell_type": "code",
   "execution_count": null,
   "metadata": {},
   "outputs": [],
   "source": [
    "#Sample Client\n",
    "import requests\n",
    "import uuid\n",
    "\n",
    "class ChatClient:\n",
    "    def __init__(self, base_url=\"http://localhost:8000\"):\n",
    "        self.base_url = base_url\n",
    "        self.session_id = None\n",
    "    \n",
    "    def start_session(self):\n",
    "        response = requests.post(f\"{self.base_url}/start-session\")\n",
    "        response.raise_for_status()\n",
    "        self.session_id = response.json()[\"session_id\"]\n",
    "        return self.session_id\n",
    "    \n",
    "    def chat(self, message):\n",
    "        if not self.session_id:\n",
    "            raise ValueError(\"No active session. Call start_session() first.\")\n",
    "            \n",
    "        payload = {\n",
    "            \"session_id\": self.session_id,\n",
    "            \"message\": message\n",
    "        }\n",
    "        response = requests.post(f\"{self.base_url}/chat\", json=payload)\n",
    "        response.raise_for_status()\n",
    "        return response.json()[\"response\"]\n",
    "\n",
    "# Usage example\n",
    "if __name__ == \"__main__\":\n",
    "    client = ChatClient()\n",
    "    client.start_session()\n",
    "    \n",
    "    while True:\n",
    "        user_input = input(\"You: \")\n",
    "        if user_input.lower() == \"/exit\":\n",
    "            break\n",
    "            \n",
    "        response = client.chat(user_input)\n",
    "        print(f\"AI: {response}\")"
   ]
  },
  {
   "cell_type": "code",
   "execution_count": 1,
   "metadata": {},
   "outputs": [],
   "source": [
    "#Create a new vector store\n",
    "!curl -X POST \"http://127.0.0.1:8000/create-vector-store\" \\\n",
    "     -H \"Content-Type: application/json\" \\\n",
    "     -d '{\n",
    "           \"text\": \"Your text goes here. This could be any text you want to convert into a vector store.\",\n",
    "           \"chunk_size\": 500,\n",
    "           \"overlap\": 50\n",
    "         }'\n",
    "\n",
    "#Sample Response\n",
    "{\n",
    "  \"index_name\": \"text-vector-store-3f9f8e1e-9d6a-4a5b-8c2d-2f1e3d4b5c6a\",\n",
    "  \"dimension\": 1536,\n",
    "  \"metadata\": {\n",
    "    \"index_name\": \"text-vector-store-3f9f8e1e-9d6a-4a5b-8c2d-2f1e3d4b5c6a\",\n",
    "    \"environment\": \"us-west1-gcp\",\n",
    "    \"dimension\": 1536,\n",
    "    \"vector_count\": 1\n",
    "  }\n",
    "}\n",
    "\n",
    "#Delete a vector store\n",
    "!curl -X POST \"http://127.0.0.1:8000/delete-vector-store\" \\\n",
    "     -H \"Content-Type: application/json\" \\\n",
    "     -d '{\n",
    "           \"index_name\": \"text-vector-store-3f9f8e1e-9d6a-4a5b-8c2d-2f1e3d4b5c6a\"\n",
    "         }'\n",
    "\n",
    "\n",
    "#Sample Response\n",
    "{\n",
    "  \"message\": \"Pinecone index 'text-vector-store-3f9f8e1e-9d6a-4a5b-8c2d-2f1e3d4b5c6a' has been deleted successfully.\",\n",
    "  \"index_name\": \"text-vector-store-3f9f8e1e-9d6a-4a5b-8c2d-2f1e3d4b5c6a\"\n",
    "}"
   ]
  },
  {
   "cell_type": "code",
   "execution_count": null,
   "metadata": {},
   "outputs": [],
   "source": []
  }
 ],
 "metadata": {
  "kernelspec": {
   "display_name": "Python 3",
   "language": "python",
   "name": "python3"
  },
  "language_info": {
   "codemirror_mode": {
    "name": "ipython",
    "version": 3
   },
   "file_extension": ".py",
   "mimetype": "text/x-python",
   "name": "python",
   "nbconvert_exporter": "python",
   "pygments_lexer": "ipython3",
   "version": "3.12.1"
  }
 },
 "nbformat": 4,
 "nbformat_minor": 2
}
